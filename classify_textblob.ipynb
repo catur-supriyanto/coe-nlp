{
  "nbformat": 4,
  "nbformat_minor": 0,
  "metadata": {
    "colab": {
      "name": "classify_textblob.ipynb",
      "provenance": [],
      "collapsed_sections": [],
      "authorship_tag": "ABX9TyPuw1W/OWOhIQtaw5EeTwRf",
      "include_colab_link": true
    },
    "kernelspec": {
      "name": "python3",
      "display_name": "Python 3"
    },
    "language_info": {
      "name": "python"
    }
  },
  "cells": [
    {
      "cell_type": "markdown",
      "metadata": {
        "id": "view-in-github",
        "colab_type": "text"
      },
      "source": [
        "<a href=\"https://colab.research.google.com/github/catur-supriyanto/coe-nlp/blob/main/classify_textblob.ipynb\" target=\"_parent\"><img src=\"https://colab.research.google.com/assets/colab-badge.svg\" alt=\"Open In Colab\"/></a>"
      ]
    },
    {
      "cell_type": "code",
      "metadata": {
        "id": "iyBi49AOGOpS"
      },
      "source": [
        "train = [\n",
        "...     ('I love this sandwich.', 'pos'),\n",
        "...     ('this is an amazing place!', 'pos'),\n",
        "...     ('I feel very good about these beers.', 'pos'),\n",
        "...     ('this is my best work.', 'pos'),\n",
        "...     (\"what an awesome view\", 'pos'),\n",
        "...     ('I do not like this restaurant', 'neg'),\n",
        "...     ('I am tired of this stuff.', 'neg'),\n",
        "...     (\"I can't deal with this\", 'neg'),\n",
        "...     ('he is my sworn enemy!', 'neg'),\n",
        "...     ('my boss is horrible.', 'neg')\n",
        "... ]"
      ],
      "execution_count": null,
      "outputs": []
    },
    {
      "cell_type": "code",
      "metadata": {
        "id": "K8RiOC67GjTu"
      },
      "source": [
        "test = [\n",
        "...     ('the beer was good.', 'pos'),\n",
        "...     ('I do not enjoy my job', 'neg'),\n",
        "...     (\"I ain't feeling dandy today.\", 'neg'),\n",
        "...     (\"I feel amazing!\", 'pos'),\n",
        "...     ('Gary is a friend of mine.', 'pos'),\n",
        "...     (\"I can't believe I'm doing this.\", 'neg')\n",
        "... ]"
      ],
      "execution_count": null,
      "outputs": []
    },
    {
      "cell_type": "code",
      "metadata": {
        "id": "rbO48ScVGmHr"
      },
      "source": [
        "from textblob.classifiers import NaiveBayesClassifier"
      ],
      "execution_count": null,
      "outputs": []
    },
    {
      "cell_type": "code",
      "metadata": {
        "colab": {
          "base_uri": "https://localhost:8080/"
        },
        "id": "PV8KOcSXGoTz",
        "outputId": "f22bd707-5c97-4dce-bf44-68f74ac55c85"
      },
      "source": [
        "import nltk\n",
        "nltk.download('punkt')\n",
        "cl = NaiveBayesClassifier(train)"
      ],
      "execution_count": null,
      "outputs": [
        {
          "output_type": "stream",
          "name": "stdout",
          "text": [
            "[nltk_data] Downloading package punkt to /root/nltk_data...\n",
            "[nltk_data]   Unzipping tokenizers/punkt.zip.\n"
          ]
        }
      ]
    },
    {
      "cell_type": "code",
      "metadata": {
        "colab": {
          "base_uri": "https://localhost:8080/",
          "height": 35
        },
        "id": "ni6lEHM3G0OB",
        "outputId": "e8fa7fa9-5bf7-4572-8f18-dd096097a9c1"
      },
      "source": [
        "cl.classify(\"This is an amazing library!\")"
      ],
      "execution_count": null,
      "outputs": [
        {
          "output_type": "execute_result",
          "data": {
            "application/vnd.google.colaboratory.intrinsic+json": {
              "type": "string"
            },
            "text/plain": [
              "'pos'"
            ]
          },
          "metadata": {},
          "execution_count": 6
        }
      ]
    },
    {
      "cell_type": "code",
      "metadata": {
        "id": "PPaBl7Q0G5ay"
      },
      "source": [
        "prob_dist = cl.prob_classify(\"This one's a doozy.\")"
      ],
      "execution_count": null,
      "outputs": []
    },
    {
      "cell_type": "code",
      "metadata": {
        "colab": {
          "base_uri": "https://localhost:8080/",
          "height": 35
        },
        "id": "XLZA5ke9G74O",
        "outputId": "20edf0e9-0fe9-46dd-cfb6-ba0fa02552e3"
      },
      "source": [
        "prob_dist.max()"
      ],
      "execution_count": null,
      "outputs": [
        {
          "output_type": "execute_result",
          "data": {
            "application/vnd.google.colaboratory.intrinsic+json": {
              "type": "string"
            },
            "text/plain": [
              "'pos'"
            ]
          },
          "metadata": {},
          "execution_count": 8
        }
      ]
    },
    {
      "cell_type": "code",
      "metadata": {
        "colab": {
          "base_uri": "https://localhost:8080/"
        },
        "id": "i_k_KNIoG-jw",
        "outputId": "2c3c2767-29af-4b5b-af0d-45f66904b45e"
      },
      "source": [
        "round(prob_dist.prob(\"pos\"), 2)"
      ],
      "execution_count": null,
      "outputs": [
        {
          "output_type": "execute_result",
          "data": {
            "text/plain": [
              "0.63"
            ]
          },
          "metadata": {},
          "execution_count": 9
        }
      ]
    },
    {
      "cell_type": "code",
      "metadata": {
        "colab": {
          "base_uri": "https://localhost:8080/"
        },
        "id": "cK-mrb9sHAap",
        "outputId": "43f31e95-e3d1-419a-ec85-732a54b8c3e3"
      },
      "source": [
        "round(prob_dist.prob(\"neg\"), 2)"
      ],
      "execution_count": null,
      "outputs": [
        {
          "output_type": "execute_result",
          "data": {
            "text/plain": [
              "0.37"
            ]
          },
          "metadata": {},
          "execution_count": 10
        }
      ]
    },
    {
      "cell_type": "code",
      "metadata": {
        "colab": {
          "base_uri": "https://localhost:8080/",
          "height": 35
        },
        "id": "iC3COrW9HDMA",
        "outputId": "488012ca-1f0a-4937-b26a-324e4b944e52"
      },
      "source": [
        "from textblob import TextBlob\n",
        "blob = TextBlob(\"The beer is good. But the hangover is horrible.\", classifier=cl)\n",
        "blob.classify()"
      ],
      "execution_count": null,
      "outputs": [
        {
          "output_type": "execute_result",
          "data": {
            "application/vnd.google.colaboratory.intrinsic+json": {
              "type": "string"
            },
            "text/plain": [
              "'pos'"
            ]
          },
          "metadata": {},
          "execution_count": 11
        }
      ]
    },
    {
      "cell_type": "code",
      "metadata": {
        "colab": {
          "base_uri": "https://localhost:8080/"
        },
        "id": "wXzBYOwkHNRo",
        "outputId": "cf2fe716-1606-4ea4-e3c5-d22a7741dfd3"
      },
      "source": [
        "for s in blob.sentences:\n",
        "...     print(s)\n",
        "...     print(s.classify())"
      ],
      "execution_count": null,
      "outputs": [
        {
          "output_type": "stream",
          "name": "stdout",
          "text": [
            "The beer is good.\n",
            "pos\n",
            "But the hangover is horrible.\n",
            "neg\n"
          ]
        }
      ]
    },
    {
      "cell_type": "code",
      "metadata": {
        "colab": {
          "base_uri": "https://localhost:8080/"
        },
        "id": "_6RwF9L7HPvf",
        "outputId": "64984b74-9bb6-47cf-8adc-42905a310c33"
      },
      "source": [
        "cl.accuracy(test)"
      ],
      "execution_count": null,
      "outputs": [
        {
          "output_type": "execute_result",
          "data": {
            "text/plain": [
              "0.8333333333333334"
            ]
          },
          "metadata": {},
          "execution_count": 13
        }
      ]
    },
    {
      "cell_type": "code",
      "metadata": {
        "colab": {
          "base_uri": "https://localhost:8080/"
        },
        "id": "ZytOMcqhHaEB",
        "outputId": "9909f6f5-8657-47fc-a52e-bfb0c6e6c710"
      },
      "source": [
        "new_data = [('She is my best friend.', 'pos'),\n",
        "...             (\"I'm happy to have a new friend.\", 'pos'),\n",
        "...             (\"Stay thirsty, my friend.\", 'pos'),\n",
        "...             (\"He ain't from around here.\", 'neg')]\n",
        "\n",
        "cl.update(new_data)\n",
        "\n",
        "cl.accuracy(test)"
      ],
      "execution_count": null,
      "outputs": [
        {
          "output_type": "execute_result",
          "data": {
            "text/plain": [
              "1.0"
            ]
          },
          "metadata": {},
          "execution_count": 15
        }
      ]
    }
  ]
}