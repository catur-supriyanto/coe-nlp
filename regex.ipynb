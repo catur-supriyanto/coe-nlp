{
  "nbformat": 4,
  "nbformat_minor": 0,
  "metadata": {
    "colab": {
      "name": "regex.ipynb",
      "provenance": [],
      "collapsed_sections": [],
      "authorship_tag": "ABX9TyN6O0ivmqhr+buSm9mYrmWe",
      "include_colab_link": true
    },
    "kernelspec": {
      "name": "python3",
      "display_name": "Python 3"
    },
    "language_info": {
      "name": "python"
    }
  },
  "cells": [
    {
      "cell_type": "markdown",
      "metadata": {
        "id": "view-in-github",
        "colab_type": "text"
      },
      "source": [
        "<a href=\"https://colab.research.google.com/github/catur-supriyanto/coe-nlp/blob/main/regex.ipynb\" target=\"_parent\"><img src=\"https://colab.research.google.com/assets/colab-badge.svg\" alt=\"Open In Colab\"/></a>"
      ]
    },
    {
      "cell_type": "code",
      "metadata": {
        "colab": {
          "base_uri": "https://localhost:8080/"
        },
        "id": "BA4rIk28Yn8s",
        "outputId": "c73604a2-f754-47b3-a4ed-faaccfe58008"
      },
      "source": [
        "# Python program to extract numeric digit\n",
        "# from A string by regular expression...\n",
        "\n",
        "# Importing module required for regular\n",
        "# expressions\n",
        "import re\n",
        "\n",
        "# Example String\n",
        "s = 'My 2 favourite numbers are 7 and 10'\n",
        "\n",
        "# find all function to select all digit from 0\n",
        "# to 9 [0-9] for numeric Letter in the String\n",
        "# + for repeats a character one or more times\n",
        "lst = re.findall('[0-9]+', s)\t\n",
        "\n",
        "# Printing of List\n",
        "print(lst)\n"
      ],
      "execution_count": null,
      "outputs": [
        {
          "output_type": "stream",
          "name": "stdout",
          "text": [
            "['2', '7', '10']\n"
          ]
        }
      ]
    },
    {
      "cell_type": "code",
      "metadata": {
        "colab": {
          "base_uri": "https://localhost:8080/"
        },
        "id": "op0Bg2A3ZDps",
        "outputId": "a0f4338f-6a76-4317-dabd-0a008664ccb1"
      },
      "source": [
        "# Python program to extract emails From\n",
        "# the String By Regular Expression.\n",
        "\n",
        "# Importing module required for regular\n",
        "# expressions\n",
        "import re\n",
        "\n",
        "# Example string\n",
        "s = \"\"\"Hello from shubhamg199630@gmail.com\n",
        "\t\tto priya@yahoo.com about the meeting @2PM\"\"\"\n",
        "\n",
        "# \\S matches any non-whitespace character\n",
        "# @ for as in the Email\n",
        "# + for Repeats a character one or more times\n",
        "lst = re.findall('\\S+@\\S+', s)\t\n",
        "\n",
        "# Printing of List\n",
        "print(lst)\n"
      ],
      "execution_count": null,
      "outputs": [
        {
          "output_type": "stream",
          "name": "stdout",
          "text": [
            "['shubhamg199630@gmail.com', 'priya@yahoo.com']\n"
          ]
        }
      ]
    }
  ]
}